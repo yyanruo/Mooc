{
 "cells": [
  {
   "cell_type": "code",
   "execution_count": null,
   "metadata": {
    "collapsed": true
   },
   "outputs": [],
   "source": [
    "import urllib\n",
    "import xml.etree.ElementTree as ET\n",
    "import json\n",
    "\n",
    "serviceurl = 'http://python-data.dr-chuck.net/comments_258685.json'\n",
    "\n",
    "url = serviceurl \n",
    "uh = urllib.urlopen(url)\n",
    "input = uh.read()\n",
    "\n",
    "info = json.loads(input)\n",
    "print 'User count:', len(info)\n",
    "\n",
    "\n",
    "x = 0\n",
    "for item in info['comments']:\n",
    "    print 'Name', item['name']\n",
    "    print 'count', item['count']\n",
    "    x += item['count']\n",
    "    \n",
    "print x\n",
    "  "
   ]
  },
  {
   "cell_type": "markdown",
   "metadata": {},
   "source": [
    "## "
   ]
  },
  {
   "cell_type": "code",
   "execution_count": null,
   "metadata": {
    "collapsed": true
   },
   "outputs": [],
   "source": []
  }
 ],
 "metadata": {
  "kernelspec": {
   "display_name": "Python 3",
   "language": "python",
   "name": "python3"
  },
  "language_info": {
   "codemirror_mode": {
    "name": "ipython",
    "version": 3
   },
   "file_extension": ".py",
   "mimetype": "text/x-python",
   "name": "python",
   "nbconvert_exporter": "python",
   "pygments_lexer": "ipython3",
   "version": "3.5.1"
  }
 },
 "nbformat": 4,
 "nbformat_minor": 0
}
